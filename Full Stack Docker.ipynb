{
 "cells": [
  {
   "cell_type": "markdown",
   "metadata": {},
   "source": [
    "# Dockerizing our old app"
   ]
  },
  {
   "cell_type": "markdown",
   "metadata": {},
   "source": [
    "Here is the same app we made a while back as a simple, minimalistic guestbook flask app in order to introduce flask."
   ]
  },
  {
   "cell_type": "markdown",
   "metadata": {},
   "source": [
    "```python\n",
    "from flask import Flask, render_template, g, request\n",
    "\n",
    "# flask-sqlalchemy also installs and imports sqlalchemy as a requirement\n",
    "from flask.ext.sqlalchemy import SQLAlchemy\n",
    "\n",
    "\n",
    "app = Flask(__name__)\n",
    "# Chooses the file location of the sqlite DB\n",
    "app.config['SQLALCHEMY_DATABASE_URI'] = 'sqlite:///guestbook.db'\n",
    "db = SQLAlchemy(app)\n",
    "\n",
    "\n",
    "# The DB Schema, or medel (SQLAlchemy will create the schema based on this)\n",
    "class GuestBook(db.Model):\n",
    "    # primary_key=True means that SQLAlchemy will automatically generate\n",
    "    # IDs for this column and so you never have to touch it.\n",
    "    id = db.Column(db.Integer, primary_key=True)\n",
    "    name = db.Column(db.String(80))\n",
    "    message = db.Column(db.String(500))\n",
    "\n",
    "    # Creates DB the DB objects that can be saved.\n",
    "    def __init__(self, name, message):\n",
    "        self.name = name\n",
    "        self.message = message\n",
    "\n",
    "# Explicitly say it can handle both GET and POST now (necesary for POST to work)\n",
    "@app.route('/', methods=['GET', 'POST'])\n",
    "def hello_world():\n",
    "    # If posted to and basic validation on input\n",
    "    if (request.method == 'POST' and\n",
    "        request.form['name'] and\n",
    "        request.form['message']):\n",
    "\n",
    "        # Save to DB\n",
    "        message = GuestBook(name=request.form['name'],\n",
    "                            message=request.form['message'])\n",
    "        db.session.add(message)\n",
    "        db.session.commit()\n",
    "\n",
    "    # Get all Guest Book Entries and Pass to template\n",
    "    messages = GuestBook.query.all()\n",
    "\n",
    "    return render_template('home.html', messages=messages)\n",
    "\n",
    "\n",
    "if __name__ == '__main__':\n",
    "    db.create_all()\n",
    "    app.debug = True\n",
    "    app.run(host='0.0.0.0')\n",
    "```"
   ]
  },
  {
   "cell_type": "markdown",
   "metadata": {},
   "source": [
    "It uses SQlite and a virtualenv in order to run.\n",
    "Firstly, are going to replace that virtualenv with docker (though they can be used together and in many cases should be)"
   ]
  },
  {
   "cell_type": "markdown",
   "metadata": {},
   "source": [
    "Create a file in the same directory of app.py (the above file) called **Dockerfile**.\n",
    "In it, put the following:"
   ]
  },
  {
   "cell_type": "markdown",
   "metadata": {},
   "source": [
    "```bash\n",
    "# Download and base the container off of a pure Python 3.5 image\n",
    "FROM python:3.5\n",
    "\n",
    "# Copy everything in the project folder to a new /guestbook folder in the directory\n",
    "ADD . /guestbook\n",
    "\n",
    "# Make that new directory the new working directory\n",
    "WORKDIR /guestbook\n",
    "\n",
    "# pip install what is in the requirements.txt file\n",
    "RUN pip install -r requirements.txt\n",
    "\n",
    "# Run the flask app\n",
    "CMD [\"python\",\"app.py\"]\n",
    "```"
   ]
  },
  {
   "cell_type": "markdown",
   "metadata": {},
   "source": [
    "Finally you will want to create your requirements.txt file (nothing special here):"
   ]
  },
  {
   "cell_type": "markdown",
   "metadata": {},
   "source": [
    "```\n",
    "flask\n",
    "flask-sqlalchemy\n",
    "```"
   ]
  },
  {
   "cell_type": "markdown",
   "metadata": {},
   "source": [
    "Now create (and name it with the *-t* tag) the image with:\n",
    "```\n",
    "docker build -t guestbook_docker .\n",
    "```\n",
    "And run it with (while specifying the port that the host OS will use to access it with the *-p* tag):\n",
    "```\n",
    "docker run -p 5000:5000 guestbook_docker\n",
    "```"
   ]
  },
  {
   "cell_type": "markdown",
   "metadata": {},
   "source": [
    "You should now be able to go to http://192.168.99.100:5000/ to access it."
   ]
  },
  {
   "cell_type": "markdown",
   "metadata": {},
   "source": [
    "To kill the container, first find it's ID with:\n",
    "```\n",
    "docker ps\n",
    "```\n",
    "Then copy and paste the id (in place of *ID* below) into the following command to kill it:\n",
    "```\n",
    "docker kill ID\n",
    "```"
   ]
  },
  {
   "cell_type": "markdown",
   "metadata": {},
   "source": [
    "# Serving the app in a more production friendly way"
   ]
  },
  {
   "cell_type": "markdown",
   "metadata": {},
   "source": [
    "The built in Flask web server that we have been using is great for development, but it is insecure, slow and meant to be temporary. So what we will be implementing now, is Gunicorn and Nginx."
   ]
  },
  {
   "cell_type": "markdown",
   "metadata": {},
   "source": [
    "Gunicorn is a WSGI HTTP server specially built for handling dynamic Python applications in production, with high loads, however Gunicorn was designed to work with a true workhorse on the frontlines that can compliment it, particularly NginX (an HTTP and reverse proxy Server)"
   ]
  },
  {
   "cell_type": "markdown",
   "metadata": {},
   "source": [
    "NginX does a great job handling the abuse of attacks and user spamming and serving static files, whereas Gunicorn handles all the requests that should be handled by the Python web app."
   ]
  },
  {
   "cell_type": "markdown",
   "metadata": {},
   "source": [
    "Getting Gunicorn to work is very easy, and conventially simply involves nothing more than:\n",
    "```bash\n",
    "pip install gunicorn\n",
    "gunicorn app:app\n",
    "```\n",
    "You start the web app with that last command instead of:\n",
    "```bash\n",
    "python app.py\n",
    "```"
   ]
  },
  {
   "cell_type": "markdown",
   "metadata": {},
   "source": [
    "Lets first cleanup the end of our app.py file, in order to make it more ready for production and let Gunicorn do all the port and IP address configuring:\n",
    "```python\n",
    "if __name__ == '__main__':\n",
    "    db.create_all()\n",
    "    app.run()\n",
    "```"
   ]
  },
  {
   "cell_type": "markdown",
   "metadata": {},
   "source": [
    "Let's then add gunicorn to requirements.txt, change the last line of the Dockerimage to use gunicorn:\n",
    "```\n",
    "# Download and base the container off of a pure Python 3.5 image\n",
    "FROM python:3.5\n",
    "\n",
    "# Copy everything in the project folder to a new /guestbook folder in the directory\n",
    "ADD . /guestbook\n",
    "\n",
    "# Make that new directory the new working directory\n",
    "WORKDIR /guestbook\n",
    "\n",
    "# pip install what is in the requirements.txt file\n",
    "RUN pip install -r requirements.txt\n",
    "\n",
    "# Run the flask app\n",
    "CMD gunicorn -b 0.0.0.0:8000 app:app\n",
    "```\n",
    "Rebuild the image:\n",
    "```\n",
    "docker build -t guestbook_docker .\n",
    "```\n",
    "and restart it\n",
    "```\n",
    "docker run -p 8000:8000 guestbook_docker\n",
    "```\n",
    "Note that we changed the ports to 8000, as it's more conventional for a weberver hiding behind another"
   ]
  },
  {
   "cell_type": "markdown",
   "metadata": {},
   "source": [
    "We are going to add NginX next, however we are going to add it as an entirely separate container, as it doesn't require a tiny bit of Python, is failry complex in and of itself and would likey requre a different update schedule, as it is very public facing but more 'stable' in it's builds due to it's nature as a Web server that is also the foundation for much of the web.\n",
    "So having a separate container allows us to update and configure it seperately and give it the special attention something so important needs."
   ]
  },
  {
   "cell_type": "markdown",
   "metadata": {},
   "source": [
    "Since we are now going to have different docker images comming from the same project, it makes sense to give each image it's own sub folder. So lets move app.py, the existing Dockerimage, requirements.txt and the static and templates folder into a new subfolder, appropriately called **web**.\n",
    "In another folder in the project root, let's create a folder called **nginx**, and create a new Dockerimage, with the following contents:"
   ]
  }
 ],
 "metadata": {
  "kernelspec": {
   "display_name": "Python 3",
   "language": "python",
   "name": "python3"
  },
  "language_info": {
   "codemirror_mode": {
    "name": "ipython",
    "version": 3
   },
   "file_extension": ".py",
   "mimetype": "text/x-python",
   "name": "python",
   "nbconvert_exporter": "python",
   "pygments_lexer": "ipython3",
   "version": "3.4.3"
  }
 },
 "nbformat": 4,
 "nbformat_minor": 0
}
